{
 "cells": [
  {
   "cell_type": "code",
   "execution_count": 8,
   "id": "62eb8961-01b8-4e40-a257-71320baafbb8",
   "metadata": {},
   "outputs": [
    {
     "name": "stdout",
     "output_type": "stream",
     "text": [
      "\n",
      "=== MENU DATA MAHASISWA ===\n",
      "1. Tambah Data Mahasiswa\n",
      "2. Tampilkan Data Mahasiswa\n",
      "3. Keluar\n"
     ]
    },
    {
     "name": "stdin",
     "output_type": "stream",
     "text": [
      "Pilih menu (1/2/3):  1\n",
      "Masukkan NIM (11 digit):  20240040231\n",
      "Masukkan Nama (minimal 6 karakter):  januar raya abimanyu\n",
      "Masukkan Alamat (minimal 10 karakter):  kota bengkulu\n",
      "Masukkan Kelas (TI23 atau TI24):  TI24G\n"
     ]
    },
    {
     "name": "stdout",
     "output_type": "stream",
     "text": [
      "❌ Kelas hanya boleh TI23 atau TI24.\n",
      "\n",
      "=== MENU DATA MAHASISWA ===\n",
      "1. Tambah Data Mahasiswa\n",
      "2. Tampilkan Data Mahasiswa\n",
      "3. Keluar\n"
     ]
    },
    {
     "name": "stdin",
     "output_type": "stream",
     "text": [
      "Pilih menu (1/2/3):  1\n",
      "Masukkan NIM (11 digit):  20240040231\n",
      "Masukkan Nama (minimal 6 karakter):  Januar raya abimanyu\n",
      "Masukkan Alamat (minimal 10 karakter):  kota bengkulu \n",
      "Masukkan Kelas (TI23 atau TI24):  TI24\n"
     ]
    },
    {
     "name": "stdout",
     "output_type": "stream",
     "text": [
      "✅ Data berhasil ditambahkan.\n",
      "\n",
      "=== MENU DATA MAHASISWA ===\n",
      "1. Tambah Data Mahasiswa\n",
      "2. Tampilkan Data Mahasiswa\n",
      "3. Keluar\n"
     ]
    },
    {
     "name": "stdin",
     "output_type": "stream",
     "text": [
      "Pilih menu (1/2/3):  2\n"
     ]
    },
    {
     "name": "stdout",
     "output_type": "stream",
     "text": [
      "\n",
      "Daftar Mahasiswa:\n",
      "==================================================\n",
      "1. NIM    : 20240040231\n",
      "   Nama   : Januar raya abimanyu\n",
      "   Alamat : kota bengkulu \n",
      "   Kelas  : TI24\n",
      "--------------------------------------------------\n",
      "\n",
      "=== MENU DATA MAHASISWA ===\n",
      "1. Tambah Data Mahasiswa\n",
      "2. Tampilkan Data Mahasiswa\n",
      "3. Keluar\n"
     ]
    },
    {
     "name": "stdin",
     "output_type": "stream",
     "text": [
      "Pilih menu (1/2/3):  3\n"
     ]
    },
    {
     "name": "stdout",
     "output_type": "stream",
     "text": [
      "👋 Keluar dari program. Sampai jumpa!\n"
     ]
    }
   ],
   "source": [
    "def validasi_nim(nim):\n",
    "    return nim.isdigit() and len(nim) == 11\n",
    "\n",
    "def validasi_nama(nama):\n",
    "    return len(nama.strip()) >= 6\n",
    "\n",
    "def validasi_alamat(alamat):\n",
    "    return len(alamat.strip()) >= 10\n",
    "\n",
    "def validasi_kelas(kelas):\n",
    "    return kelas in [\"TI23\", \"TI24\"]\n",
    "\n",
    "def tambah_data(mahasiswa_list):\n",
    "    nim = input(\"Masukkan NIM (11 digit): \")\n",
    "    if not validasi_nim(nim):\n",
    "        print(\"❌ NIM harus 11 digit angka.\")\n",
    "        return\n",
    "\n",
    "    nama = input(\"Masukkan Nama (minimal 6 karakter): \")\n",
    "    if not validasi_nama(nama):\n",
    "        print(\"❌ Nama minimal 6 karakter.\")\n",
    "        return\n",
    "\n",
    "    alamat = input(\"Masukkan Alamat (minimal 10 karakter): \")\n",
    "    if not validasi_alamat(alamat):\n",
    "        print(\"❌ Alamat minimal 10 karakter.\")\n",
    "        return\n",
    "\n",
    "    kelas = input(\"Masukkan Kelas (TI23 atau TI24): \")\n",
    "    if not validasi_kelas(kelas):\n",
    "        print(\"❌ Kelas hanya boleh TI23 atau TI24.\")\n",
    "        return\n",
    "\n",
    "    mahasiswa = {\n",
    "        \"NIM\": nim,\n",
    "        \"Nama\": nama,\n",
    "        \"Alamat\": alamat,\n",
    "        \"Kelas\": kelas\n",
    "    }\n",
    "    mahasiswa_list.append(mahasiswa)\n",
    "    print(\"✅ Data berhasil ditambahkan.\")\n",
    "\n",
    "def tampilkan_data(mahasiswa_list):\n",
    "    if not mahasiswa_list:\n",
    "        print(\"📭 Belum ada data mahasiswa.\")\n",
    "        return\n",
    "\n",
    "    print(\"\\nDaftar Mahasiswa:\")\n",
    "    print(\"=\" * 50)\n",
    "    for idx, mhs in enumerate(mahasiswa_list, start=1):\n",
    "        print(f\"{idx}. NIM    : {mhs['NIM']}\")\n",
    "        print(f\"   Nama   : {mhs['Nama']}\")\n",
    "        print(f\"   Alamat : {mhs['Alamat']}\")\n",
    "        print(f\"   Kelas  : {mhs['Kelas']}\")\n",
    "        print(\"-\" * 50)\n",
    "\n",
    "def main():\n",
    "    mahasiswa_list = []\n",
    "\n",
    "    while True:\n",
    "        print(\"\\n=== MENU DATA MAHASISWA ===\")\n",
    "        print(\"1. Tambah Data Mahasiswa\")\n",
    "        print(\"2. Tampilkan Data Mahasiswa\")\n",
    "        print(\"3. Keluar\")\n",
    "\n",
    "        pilihan = input(\"Pilih menu (1/2/3): \")\n",
    "\n",
    "        if pilihan == '1':\n",
    "            tambah_data(mahasiswa_list)\n",
    "        elif pilihan == '2':\n",
    "            tampilkan_data(mahasiswa_list)\n",
    "        elif pilihan == '3':\n",
    "            print(\"👋 Keluar dari program. Sampai jumpa!\")\n",
    "            break\n",
    "        else:\n",
    "            print(\"❌ Pilihan tidak valid. Silakan pilih 1, 2, atau 3.\")\n",
    "\n",
    "if __name__ == \"__main__\":\n",
    "    main()\n"
   ]
  }
 ],
 "metadata": {
  "kernelspec": {
   "display_name": "Python [conda env:base] *",
   "language": "python",
   "name": "conda-base-py"
  },
  "language_info": {
   "codemirror_mode": {
    "name": "ipython",
    "version": 3
   },
   "file_extension": ".py",
   "mimetype": "text/x-python",
   "name": "python",
   "nbconvert_exporter": "python",
   "pygments_lexer": "ipython3",
   "version": "3.12.7"
  }
 },
 "nbformat": 4,
 "nbformat_minor": 5
}
